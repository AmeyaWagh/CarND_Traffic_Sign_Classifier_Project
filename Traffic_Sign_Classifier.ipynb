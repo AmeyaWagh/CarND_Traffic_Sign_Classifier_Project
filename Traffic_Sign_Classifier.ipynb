{
 "cells": [
  {
   "cell_type": "markdown",
   "metadata": {},
   "source": [
    "# Self-Driving Car Engineer Nanodegree\n",
    "\n",
    "## Deep Learning\n",
    "\n",
    "## Project: Build a Traffic Sign Recognition Classifier\n",
    "\n",
    "In this notebook, a template is provided for you to implement your functionality in stages, which is required to successfully complete this project. If additional code is required that cannot be included in the notebook, be sure that the Python code is successfully imported and included in your submission if necessary. \n",
    "\n",
    "> **Note**: Once you have completed all of the code implementations, you need to finalize your work by exporting the iPython Notebook as an HTML document. Before exporting the notebook to html, all of the code cells need to have been run so that reviewers can see the final implementation and output. You can then export the notebook by using the menu above and navigating to  \\n\",\n",
    "    \"**File -> Download as -> HTML (.html)**. Include the finished document along with this notebook as your submission. \n",
    "\n",
    "In addition to implementing code, there is a writeup to complete. The writeup should be completed in a separate file, which can be either a markdown file or a pdf document. There is a [write up template](https://github.com/udacity/CarND-Traffic-Sign-Classifier-Project/blob/master/writeup_template.md) that can be used to guide the writing process. Completing the code template and writeup template will cover all of the [rubric points](https://review.udacity.com/#!/rubrics/481/view) for this project.\n",
    "\n",
    "The [rubric](https://review.udacity.com/#!/rubrics/481/view) contains \"Stand Out Suggestions\" for enhancing the project beyond the minimum requirements. The stand out suggestions are optional. If you decide to pursue the \"stand out suggestions\", you can include the code in this Ipython notebook and also discuss the results in the writeup file.\n",
    "\n",
    "\n",
    ">**Note:** Code and Markdown cells can be executed using the **Shift + Enter** keyboard shortcut. In addition, Markdown cells can be edited by typically double-clicking the cell to enter edit mode."
   ]
  },
  {
   "cell_type": "markdown",
   "metadata": {},
   "source": [
    "---\n",
    "## Step 0: Load The Data"
   ]
  },
  {
   "cell_type": "code",
   "execution_count": 1,
   "metadata": {
    "collapsed": true
   },
   "outputs": [],
   "source": [
    "# Load pickled data\n",
    "import pickle\n",
    "\n",
    "# TODO: Fill this in based on where you saved the training and testing data\n",
    "\n",
    "training_file = \"./dataSet/train.p\"\n",
    "validation_file=\"./dataSet/valid.p\"\n",
    "testing_file = \"./dataSet/test.p\"\n",
    "\n",
    "with open(training_file, mode='rb') as f:\n",
    "    train = pickle.load(f)\n",
    "with open(validation_file, mode='rb') as f:\n",
    "    valid = pickle.load(f)\n",
    "with open(testing_file, mode='rb') as f:\n",
    "    test = pickle.load(f)\n",
    "    \n",
    "X_train, y_train = train['features'], train['labels']\n",
    "X_valid, y_valid = valid['features'], valid['labels']\n",
    "X_test, y_test = test['features'], test['labels']"
   ]
  },
  {
   "cell_type": "markdown",
   "metadata": {},
   "source": [
    "---\n",
    "\n",
    "## Step 1: Dataset Summary & Exploration\n",
    "\n",
    "The pickled data is a dictionary with 4 key/value pairs:\n",
    "\n",
    "- `'features'` is a 4D array containing raw pixel data of the traffic sign images, (num examples, width, height, channels).\n",
    "- `'labels'` is a 1D array containing the label/class id of the traffic sign. The file `signnames.csv` contains id -> name mappings for each id.\n",
    "- `'sizes'` is a list containing tuples, (width, height) representing the original width and height the image.\n",
    "- `'coords'` is a list containing tuples, (x1, y1, x2, y2) representing coordinates of a bounding box around the sign in the image. **THESE COORDINATES ASSUME THE ORIGINAL IMAGE. THE PICKLED DATA CONTAINS RESIZED VERSIONS (32 by 32) OF THESE IMAGES**\n",
    "\n",
    "Complete the basic data summary below. Use python, numpy and/or pandas methods to calculate the data summary rather than hard coding the results. For example, the [pandas shape method](http://pandas.pydata.org/pandas-docs/stable/generated/pandas.DataFrame.shape.html) might be useful for calculating some of the summary results. "
   ]
  },
  {
   "cell_type": "markdown",
   "metadata": {},
   "source": [
    "### Provide a Basic Summary of the Data Set Using Python, Numpy and/or Pandas"
   ]
  },
  {
   "cell_type": "code",
   "execution_count": 2,
   "metadata": {},
   "outputs": [
    {
     "name": "stdout",
     "output_type": "stream",
     "text": [
      "Number of training examples = 34799\n",
      "Number of testing examples = 12630\n",
      "Image data shape = (34799, 32, 32, 3)\n",
      "Number of classes = 43\n"
     ]
    }
   ],
   "source": [
    "### Replace each question mark with the appropriate value. \n",
    "### Use python, pandas or numpy methods rather than hard coding the results\n",
    "import pandas as pd\n",
    "# TODO: Number of training examples\n",
    "n_train = len(y_train)\n",
    "\n",
    "# TODO: Number of validation examples\n",
    "n_validation = len(y_valid)\n",
    "\n",
    "# TODO: Number of testing examples.\n",
    "n_test = len(y_test)\n",
    "\n",
    "# TODO: What's the shape of an traffic sign image?\n",
    "image_shape = X_train.shape\n",
    "\n",
    "# TODO: How many unique classes/labels there are in the dataset.\n",
    "n_classes = len(set(y_train))\n",
    "\n",
    "print(\"Number of training examples =\", n_train)\n",
    "print(\"Number of testing examples =\", n_test)\n",
    "print(\"Image data shape =\", image_shape)\n",
    "print(\"Number of classes =\", n_classes)\n",
    "\n",
    "LABELS = pd.read_csv('./signnames.csv').values\n",
    "# print(Labels)"
   ]
  },
  {
   "cell_type": "markdown",
   "metadata": {},
   "source": [
    "### Include an exploratory visualization of the dataset"
   ]
  },
  {
   "cell_type": "markdown",
   "metadata": {},
   "source": [
    "Visualize the German Traffic Signs Dataset using the pickled file(s). This is open ended, suggestions include: plotting traffic sign images, plotting the count of each sign, etc. \n",
    "\n",
    "The [Matplotlib](http://matplotlib.org/) [examples](http://matplotlib.org/examples/index.html) and [gallery](http://matplotlib.org/gallery.html) pages are a great resource for doing visualizations in Python.\n",
    "\n",
    "**NOTE:** It's recommended you start with something simple first. If you wish to do more, come back to it after you've completed the rest of the sections. It can be interesting to look at the distribution of classes in the training, validation and test set. Is the distribution the same? Are there more examples of some classes than others?"
   ]
  },
  {
   "cell_type": "code",
   "execution_count": 3,
   "metadata": {},
   "outputs": [
    {
     "data": {
      "image/png": "[encoded data removed]",
      "text/plain": [
       "<matplotlib.figure.Figure at 0x7f167879fa20>"
      ]
     },
     "metadata": {},
     "output_type": "display_data"
    }
   ],
   "source": [
    "### Data exploration visualization code goes here.\n",
    "### Feel free to use as many code cells as needed.\n",
    "import matplotlib.pyplot as plt\n",
    "# Visualizations will be shown in the notebook.\n",
    "%matplotlib inline\n",
    "plt.figure()\n",
    "plt.subplot()\n",
    "plt.imshow(X_train[230])\n",
    "plt.show()"
   ]
  },
  {
   "cell_type": "markdown",
   "metadata": {},
   "source": [
    "----\n",
    "\n",
    "## Step 2: Design and Test a Model Architecture\n",
    "\n",
    "Design and implement a deep learning model that learns to recognize traffic signs. Train and test your model on the [German Traffic Sign Dataset](http://benchmark.ini.rub.de/?section=gtsrb&subsection=dataset).\n",
    "\n",
    "The LeNet-5 implementation shown in the [classroom](https://classroom.udacity.com/nanodegrees/nd013/parts/fbf77062-5703-404e-b60c-95b78b2f3f9e/modules/6df7ae49-c61c-4bb2-a23e-6527e69209ec/lessons/601ae704-1035-4287-8b11-e2c2716217ad/concepts/d4aca031-508f-4e0b-b493-e7b706120f81) at the end of the CNN lesson is a solid starting point. You'll have to change the number of classes and possibly the preprocessing, but aside from that it's plug and play! \n",
    "\n",
    "With the LeNet-5 solution from the lecture, you should expect a validation set accuracy of about 0.89. To meet specifications, the validation set accuracy will need to be at least 0.93. It is possible to get an even higher accuracy, but 0.93 is the minimum for a successful project submission. \n",
    "\n",
    "There are various aspects to consider when thinking about this problem:\n",
    "\n",
    "- Neural network architecture (is the network over or underfitting?)\n",
    "- Play around preprocessing techniques (normalization, rgb to grayscale, etc)\n",
    "- Number of examples per label (some have more than others).\n",
    "- Generate fake data.\n",
    "\n",
    "Here is an example of a [published baseline model on this problem](http://yann.lecun.com/exdb/publis/pdf/sermanet-ijcnn-11.pdf). It's not required to be familiar with the approach used in the paper but, it's good practice to try to read papers like these."
   ]
  },
  {
   "cell_type": "markdown",
   "metadata": {},
   "source": [
    "### Pre-process the Data Set (normalization, grayscale, etc.)"
   ]
  },
  {
   "cell_type": "markdown",
   "metadata": {},
   "source": [
    "Minimally, the image data should be normalized so that the data has mean zero and equal variance. For image data, `(pixel - 128)/ 128` is a quick way to approximately normalize the data and can be used in this project. \n",
    "\n",
    "Other pre-processing steps are optional. You can try different techniques to see if it improves performance. \n",
    "\n",
    "Use the code cell (or multiple code cells, if necessary) to implement the first step of your project."
   ]
  },
  {
   "cell_type": "code",
   "execution_count": 4,
   "metadata": {},
   "outputs": [
    {
     "name": "stdout",
     "output_type": "stream",
     "text": [
      "(32, 32, 1)\n"
     ]
    },
    {
     "data": {
      "image/png": "[encoded data removed]",
      "text/plain": [
       "<matplotlib.figure.Figure at 0x7f16388f0320>"
      ]
     },
     "metadata": {},
     "output_type": "display_data"
    }
   ],
   "source": [
    "### Preprocess the data here. It is required to normalize the data. Other preprocessing steps could include \n",
    "### converting to grayscale, etc.\n",
    "### Feel free to use as many code cells as needed.\n",
    "import numpy as np\n",
    "import cv2\n",
    "\n",
    "INPUT_DIMENSION = (32,32,1)\n",
    "\n",
    "gray_image = lambda img: cv2.cvtColor( img, cv2.COLOR_RGB2GRAY )\n",
    "preprocess_image = lambda im: np.resize((gray_image(im)/255)-0.5,INPUT_DIMENSION) \n",
    "\n",
    "X_train = [preprocess_image(sample) for sample in X_train]\n",
    "X_test = [preprocess_image(sample) for sample in X_test]\n",
    "X_valid = [preprocess_image(sample) for sample in X_valid]\n",
    "\n",
    "print(X_train[0].shape)\n",
    "plt.figure()\n",
    "plt.imshow(X_train[0].squeeze())\n",
    "plt.show()"
   ]
  },
  {
   "cell_type": "markdown",
   "metadata": {},
   "source": [
    "### Model Architecture"
   ]
  },
  {
   "cell_type": "code",
   "execution_count": 5,
   "metadata": {
    "collapsed": true
   },
   "outputs": [],
   "source": [
    "### Define your architecture here.\n",
    "### Feel free to use as many code cells as needed.\n",
    "import tensorflow as tf\n",
    "from sklearn.utils import shuffle\n",
    "\n",
    "LEARNING_RATE=0.001\n",
    "EPOCHS = 10\n",
    "BATCH_SIZE = 128\n",
    "\n",
    "class LeNetClassifier:\n",
    "    ''' LeNet classifier '''\n",
    "    def __init__(self,n_classes,learning_rate=0.001,\n",
    "                 mu=0,stddev=0.1,input_dim=(32,32,1)):\n",
    "        self.learning_rate = learning_rate\n",
    "        self.mu = mu\n",
    "        self.stddev = stddev\n",
    "        self.input_dim=input_dim\n",
    "        self.placeholder_dim = (None,input_dim[0],\n",
    "                                input_dim[1],input_dim[2])\n",
    "        self.n_classes = n_classes\n",
    "        \n",
    "        \n",
    "        self.X = tf.placeholder(tf.float32,self.placeholder_dim)\n",
    "        self.y= tf.placeholder(tf.int32,(None))\n",
    "        self.y_one_hot = tf.one_hot(self.y,n_classes)\n",
    "        \n",
    "        self.model = self.create_model()\n",
    "        self.saver = tf.train.Saver()\n",
    "    \n",
    "    def create_model(self):\n",
    "        ''' LeNet model '''\n",
    "        cnn_layer_1 = self.CNN_layer(self.X,_shape=(5,5,1,48),_strides=[1, 1, 1, 1])\n",
    "        pool_1 = self.pooling_layer(cnn_layer_1,_ksize=[1,2,2,1],_stride=[1,2,2,1])\n",
    "        \n",
    "        \n",
    "        cnn_layer_2 = self.CNN_layer(pool_1,_shape=(5,5,48,96),_strides=[1, 1, 1, 1])\n",
    "        pool_2 = self.pooling_layer(cnn_layer_2,_ksize=[1,2,2,1],_stride=[1,2,2,1])\n",
    "        \n",
    "        \n",
    "        cnn_layer_3 = self.CNN_layer(pool_2,_shape=(3,3,96,172),_strides=[1, 1, 1, 1])\n",
    "        pool_3 = self.pooling_layer(cnn_layer_3,_ksize=[1,2,2,1],_stride=[1,1,1,1])\n",
    "        \n",
    "        flattened = self.flattened_layer(pool_3)\n",
    "        \n",
    "        fc_1 = self.fully_connected_layer(flattened,_shape = (688,84))\n",
    "        self.logits = self.fully_connected_layer(fc_1,_shape = (84,self.n_classes), \n",
    "                                          activation=False)\n",
    "        \n",
    "        \n",
    "        self.accuracy_check = tf.reduce_mean(tf.cast(\n",
    "            tf.equal(tf.argmax(self.logits,1) , tf.argmax(self.y_one_hot,1)), tf.float32))\n",
    "        \n",
    "        return self.adam_optimizer(self.logits)\n",
    "    \n",
    "    def CNN_layer(self,X,_shape=(5,5,1,6),_strides=[1, 1, 1, 1]):\n",
    "        ''' convolution layer ''' \n",
    "        conv_wt = tf.Variable(tf.truncated_normal(shape=_shape,\n",
    "                                                  mean=self.mu,\n",
    "                                                  stddev=self.stddev))\n",
    "        conv_bias = tf.Variable(tf.zeros([_shape[3]]))\n",
    "        conv = tf.nn.conv2d(X,conv_wt,strides=_strides, padding = 'VALID') + conv_bias\n",
    "        ''' activation ''' \n",
    "        output = tf.nn.relu(conv)\n",
    "        return output\n",
    "    \n",
    "    def pooling_layer(self, X, _ksize=[1,2,2,1], _stride=[1,2,2,1]):\n",
    "        ''' Pooling Layer '''\n",
    "        pooling = tf.nn.max_pool(X, ksize=_ksize, strides=_stride, padding='VALID')\n",
    "        return pooling\n",
    "    \n",
    "    def fully_connected_layer(self,X,_shape=(688,84),activation=True):\n",
    "        fc_weights = tf.Variable(tf.truncated_normal(shape = _shape, \n",
    "                                                     mean = self.mu , \n",
    "                                                     stddev = self.stddev))\n",
    "        fc_bias = tf.Variable(tf.zeros(_shape[1]))\n",
    "        fc_layer = tf.matmul(X,fc_weights) + fc_bias\n",
    "        if activation:\n",
    "            return tf.nn.relu(fc_layer)\n",
    "        else:\n",
    "            return fc_layer\n",
    "    \n",
    "    def flattened_layer(self, X):\n",
    "        return tf.contrib.layers.flatten(X)\n",
    "        \n",
    "    def adam_optimizer(self,logits):\n",
    "        cross_entropy = tf.nn.softmax_cross_entropy_with_logits(logits = logits, \n",
    "                                                                labels = self.y_one_hot)\n",
    "        reduced_mean = tf.reduce_mean(cross_entropy)\n",
    "        optimizer = tf.train.AdamOptimizer(learning_rate = self.learning_rate)\n",
    "        training_operation = optimizer.minimize(reduced_mean)\n",
    "        return training_operation\n",
    "        \n",
    "        \n",
    "    def fit(self,n_classes,epochs,batch_size,X_train,y_train,X_valid, y_valid):\n",
    "        with tf.Session() as sess:\n",
    "            sess.run(tf.global_variables_initializer())\n",
    "            for epoch in range(epochs):\n",
    "                X_train,y_train = shuffle(X_train,y_train)\n",
    "                for b in range(0,len(X_train),batch_size):\n",
    "                    X_batch,y_batch = X_train[b:b+batch_size], y_train[b:b+batch_size]\n",
    "                    sess.run(self.model,feed_dict={self.X : X_batch,self.y : y_batch})\n",
    "                validation_acc = self.get_accuracy(X_valid, y_valid,batch_size)\n",
    "                print(\"[Epochs]{}  [Validation_acc]{:.3f}\".format(epoch,validation_acc))\n",
    "            self.save_model(sess)\n",
    "        \n",
    "    def get_accuracy(self,X,y,batch_size=1):\n",
    "        total = len(X)\n",
    "        hits=0\n",
    "        sess = tf.get_default_session()\n",
    "        for i in range(0,total,batch_size):\n",
    "            batch_x , batch_y = X[i:i+batch_size] , y[i:i+batch_size]\n",
    "            acc = sess.run(self.accuracy_check, feed_dict = {self.X : batch_x , self.y : batch_y})\n",
    "            hits += (acc*len(batch_x))\n",
    "        return hits/total\n",
    "    \n",
    "    def evaluate(self,X_train ,y_train,X_test ,y_test):\n",
    "        with tf.Session() as sess:\n",
    "            self.saver.restore(sess, tf.train.latest_checkpoint('.'))\n",
    "            accuracy_test = self.get_accuracy(X_train ,y_train)\n",
    "            print (\"[Trianing acc]{:.3f}\".format(accuracy_test))\n",
    "            accuracy_test = self.get_accuracy(X_test ,y_test)\n",
    "            print (\"[Test acc]{:.3f}\".format(accuracy_test))\n",
    "            \n",
    "    def save_model(self,sess):\n",
    "        self.saver.save(sess,'./traffic_classifier')\n",
    "        print(\"[info] model saved\")\n",
    "    \n",
    "    def predict_label(self,X,labels):\n",
    "        with tf.Session() as sess:\n",
    "            self.saver.restore(sess, tf.train.latest_checkpoint('.'))\n",
    "            pred_logits = sess.run(self.logits, feed_dict={self.X: X})\n",
    "            pred_label = np.argmax(pred_logits, axis=1)\n",
    "            for i in range(len(X)):\n",
    "                print(\"[Prediction]{0}\".format(labels[pred_label[i]]))\n",
    "            return [labels[pred] for pred in pred_label ], pred_logits"
   ]
  },
  {
   "cell_type": "markdown",
   "metadata": {},
   "source": [
    "### Train, Validate and Test the Model"
   ]
  },
  {
   "cell_type": "markdown",
   "metadata": {},
   "source": [
    "A validation set can be used to assess how well the model is performing. A low accuracy on the training and validation\n",
    "sets imply underfitting. A high accuracy on the training set but low accuracy on the validation set implies overfitting."
   ]
  },
  {
   "cell_type": "code",
   "execution_count": 6,
   "metadata": {},
   "outputs": [
    {
     "name": "stdout",
     "output_type": "stream",
     "text": [
      "[Epochs]0  [Validation_acc]0.854\n",
      "[Epochs]1  [Validation_acc]0.900\n",
      "[Epochs]2  [Validation_acc]0.895\n",
      "[Epochs]3  [Validation_acc]0.913\n",
      "[Epochs]4  [Validation_acc]0.910\n",
      "[Epochs]5  [Validation_acc]0.934\n",
      "[Epochs]6  [Validation_acc]0.934\n",
      "[Epochs]7  [Validation_acc]0.937\n",
      "[Epochs]8  [Validation_acc]0.948\n",
      "[Epochs]9  [Validation_acc]0.943\n",
      "[Epochs]10  [Validation_acc]0.948\n",
      "[Epochs]11  [Validation_acc]0.936\n",
      "[Epochs]12  [Validation_acc]0.945\n",
      "[Epochs]13  [Validation_acc]0.947\n",
      "[Epochs]14  [Validation_acc]0.952\n",
      "[info] model saved\n",
      "INFO:tensorflow:Restoring parameters from ./traffic_classifier\n",
      "[Trianing acc]0.999\n",
      "[Test acc]0.999\n"
     ]
    }
   ],
   "source": [
    "### Train your model here.\n",
    "### Calculate and report the accuracy on the training and validation set.\n",
    "### Once a final model architecture is selected, \n",
    "### the accuracy on the test set should be calculated and reported as well.\n",
    "### Feel free to use as many code cells as needed.\n",
    "EPOCHS = 15\n",
    "BATCH_SIZE = 128\n",
    "le_net = LeNetClassifier(n_classes,learning_rate=0.001)\n",
    "le_net.fit(n_classes,EPOCHS,BATCH_SIZE,X_train,y_train,X_valid, y_valid)\n",
    "le_net.evaluate(X_train,y_train,X_test,y_test)"
   ]
  },
  {
   "cell_type": "code",
   "execution_count": 7,
   "metadata": {},
   "outputs": [
    {
     "name": "stdout",
     "output_type": "stream",
     "text": [
      "43\n",
      "INFO:tensorflow:Restoring parameters from ./traffic_classifier\n",
      "[Prediction][41 'End of no passing']\n",
      "[Prediction][41 'End of no passing']\n",
      "[Prediction][41 'End of no passing']\n",
      "[Prediction][41 'End of no passing']\n",
      "[Prediction][41 'End of no passing']\n"
     ]
    }
   ],
   "source": [
    "import pandas as pd\n",
    "labels = pd.read_csv('signnames.csv').values\n",
    "print (len(labels))\n",
    "result, proba = le_net.predict_label(X_train[0:5],labels)"
   ]
  },
  {
   "cell_type": "markdown",
   "metadata": {},
   "source": [
    "---\n",
    "\n",
    "## Step 3: Test a Model on New Images\n",
    "\n",
    "To give yourself more insight into how your model is working, download at least five pictures of German traffic signs from the web and use your model to predict the traffic sign type.\n",
    "\n",
    "You may find `signnames.csv` useful as it contains mappings from the class id (integer) to the actual sign name."
   ]
  },
  {
   "cell_type": "markdown",
   "metadata": {},
   "source": [
    "### Load and Output the Images"
   ]
  },
  {
   "cell_type": "code",
   "execution_count": 27,
   "metadata": {},
   "outputs": [
    {
     "name": "stdout",
     "output_type": "stream",
     "text": [
      "[loading] Stop\n",
      "[loading] Yield\n",
      "[loading] Speed limit (60km/h)\n",
      "[loading] Speed limit (70km/h)\n",
      "[loading] Speed limit (30km/h)\n"
     ]
    }
   ],
   "source": [
    "### Load the images and plot them here.\n",
    "### Feel free to use as many code cells as needed.\n",
    "import os\n",
    "TEST_DIR = './test_images'\n",
    "test_input = []\n",
    "test_labels = []\n",
    "for test_file in os.listdir(TEST_DIR):\n",
    "    print(\"[loading]\",LABELS[int(test_file.split('.')[0])][1])\n",
    "    test_input.append(cv2.resize( cv2.imread(os.path.join(TEST_DIR,test_file)) , (32,32)))\n",
    "    test_labels.append(LABELS[int(test_file.split('.')[0])][1])"
   ]
  },
  {
   "cell_type": "markdown",
   "metadata": {},
   "source": [
    "### Predict the Sign Type for Each Image"
   ]
  },
  {
   "cell_type": "code",
   "execution_count": 26,
   "metadata": {},
   "outputs": [
    {
     "name": "stdout",
     "output_type": "stream",
     "text": [
      "INFO:tensorflow:Restoring parameters from ./traffic_classifier\n",
      "[Prediction][14 'Stop']\n",
      "[Prediction][23 'Slippery road']\n",
      "[Prediction][13 'Yield']\n",
      "[Prediction][11 'Right-of-way at the next intersection']\n",
      "[Prediction][4 'Speed limit (70km/h)']\n",
      "[Prediction][1 'Speed limit (30km/h)']\n",
      "[14 'Stop']\n",
      "[23 'Slippery road']\n",
      "[13 'Yield']\n",
      "[11 'Right-of-way at the next intersection']\n",
      "[4 'Speed limit (70km/h)']\n",
      "[1 'Speed limit (30km/h)']\n"
     ]
    },
    {
     "data": {
      "image/png": "[encoded data removed]",
      "text/plain": [
       "<matplotlib.figure.Figure at 0x7f16142866d8>"
      ]
     },
     "metadata": {},
     "output_type": "display_data"
    }
   ],
   "source": [
    "### Run the predictions here and use the model to output the prediction for each image.\n",
    "### Make sure to pre-process the images with the same pre-processing pipeline used earlier.\n",
    "### Feel free to use as many code cells as needed.\n",
    "X_test_new = [preprocess_image(sample) for sample in test_input]\n",
    "result, proba = le_net.predict_label(X_test_new,LABELS)\n",
    "# print(result)\n",
    "for i,img in enumerate(test_input):\n",
    "    plt.subplot(len(test_input),1,i+1)\n",
    "    plt.imshow(img)\n",
    "    print(result[i])"
   ]
  },
  {
   "cell_type": "markdown",
   "metadata": {},
   "source": [
    "### Analyze Performance"
   ]
  },
  {
   "cell_type": "code",
   "execution_count": 10,
   "metadata": {},
   "outputs": [
    {
     "name": "stdout",
     "output_type": "stream",
     "text": [
      "predicted                       | actual\n",
      "--------------------------------------------------------------------------------\n",
      "Slippery road                   | Stop\n",
      "Yield                           | Yield\n",
      "Right-of-way at the next intersection  | Speed limit (60km/h)\n",
      "Speed limit (70km/h)            | Speed limit (70km/h)\n",
      "Speed limit (30km/h)            | Speed limit (30km/h)\n",
      "[accuracy] {} 0.6\n"
     ]
    }
   ],
   "source": [
    "### Calculate the accuracy for these 5 new images. \n",
    "### For example, if the model predicted 1 out of 5 signs correctly, it's 20% accurate on these new images.\n",
    "hits = 0\n",
    "BUFF_SIZE = 60\n",
    "print('predicted',' '*(int(BUFF_SIZE/2)-len('predicted')),'|','actual' )\n",
    "print('-'*80)\n",
    "for idx,res in enumerate(result):\n",
    "    if res[1] == test_labels[idx]: hits +=1\n",
    "    print(res[1],' '*(int(BUFF_SIZE/2)-len(res[1])),'|',test_labels[idx])\n",
    "\n",
    "print('[accuracy] {}',format(hits/len(result)))"
   ]
  },
  {
   "cell_type": "markdown",
   "metadata": {},
   "source": [
    "### Output Top 5 Softmax Probabilities For Each Image Found on the Web"
   ]
  },
  {
   "cell_type": "markdown",
   "metadata": {},
   "source": [
    "For each of the new images, print out the model's softmax probabilities to show the **certainty** of the model's predictions (limit the output to the top 5 probabilities for each image). [`tf.nn.top_k`](https://www.tensorflow.org/versions/r0.12/api_docs/python/nn.html#top_k) could prove helpful here. \n",
    "\n",
    "The example below demonstrates how tf.nn.top_k can be used to find the top k predictions for each image.\n",
    "\n",
    "`tf.nn.top_k` will return the values and indices (class ids) of the top k predictions. So if k=3, for each sign, it'll return the 3 largest probabilities (out of a possible 43) and the correspoding class ids.\n",
    "\n",
    "Take this numpy array as an example. The values in the array represent predictions. The array contains softmax probabilities for five candidate images with six possible classes. `tf.nn.top_k` is used to choose the three classes with the highest probability:\n",
    "\n",
    "```\n",
    "# (5, 6) array\n",
    "a = np.array([[ 0.24879643,  0.07032244,  0.12641572,  0.34763842,  0.07893497,\n",
    "         0.12789202],\n",
    "       [ 0.28086119,  0.27569815,  0.08594638,  0.0178669 ,  0.18063401,\n",
    "         0.15899337],\n",
    "       [ 0.26076848,  0.23664738,  0.08020603,  0.07001922,  0.1134371 ,\n",
    "         0.23892179],\n",
    "       [ 0.11943333,  0.29198961,  0.02605103,  0.26234032,  0.1351348 ,\n",
    "         0.16505091],\n",
    "       [ 0.09561176,  0.34396535,  0.0643941 ,  0.16240774,  0.24206137,\n",
    "         0.09155967]])\n",
    "```\n",
    "\n",
    "Running it through `sess.run(tf.nn.top_k(tf.constant(a), k=3))` produces:\n",
    "\n",
    "```\n",
    "TopKV2(values=array([[ 0.34763842,  0.24879643,  0.12789202],\n",
    "       [ 0.28086119,  0.27569815,  0.18063401],\n",
    "       [ 0.26076848,  0.23892179,  0.23664738],\n",
    "       [ 0.29198961,  0.26234032,  0.16505091],\n",
    "       [ 0.34396535,  0.24206137,  0.16240774]]), indices=array([[3, 0, 5],\n",
    "       [0, 1, 4],\n",
    "       [0, 5, 1],\n",
    "       [1, 3, 5],\n",
    "       [1, 4, 3]], dtype=int32))\n",
    "```\n",
    "\n",
    "Looking just at the first row we get `[ 0.34763842,  0.24879643,  0.12789202]`, you can confirm these are the 3 largest probabilities in `a`. You'll also notice `[3, 0, 5]` are the corresponding indices."
   ]
  },
  {
   "cell_type": "code",
   "execution_count": 11,
   "metadata": {},
   "outputs": [
    {
     "name": "stdout",
     "output_type": "stream",
     "text": [
      "actual Stop\n",
      "------------------------------------------------------------\n",
      "Slippery road                                         | 0.544407\n",
      "No passing                                            | 0.310971\n",
      "Right-of-way at the next intersection                 | 0.139149\n",
      "Beware of ice/snow                                  | 0.00241471\n",
      "End of no passing                                   | 0.00109601\n",
      "\n",
      "actual Yield\n",
      "------------------------------------------------------------\n",
      "Yield                                                      | 1.0\n",
      "Right-of-way at the next intersection              | 2.63978e-24\n",
      "Speed limit (30km/h)                               | 4.89407e-29\n",
      "Ahead only                                         | 1.21401e-30\n",
      "Road work                                            | 2.438e-38\n",
      "\n",
      "actual Speed limit (60km/h)\n",
      "------------------------------------------------------------\n",
      "Right-of-way at the next intersection                 | 0.540597\n",
      "Wild animals crossing                                  | 0.20547\n",
      "Road work                                             | 0.139231\n",
      "Slippery road                                         | 0.107926\n",
      "Turn right ahead                                    | 0.00360026\n",
      "\n",
      "actual Speed limit (70km/h)\n",
      "------------------------------------------------------------\n",
      "Speed limit (70km/h)                                  | 0.650781\n",
      "Speed limit (30km/h)                                  | 0.349211\n",
      "Traffic signals                                    | 7.79107e-06\n",
      "General caution                                    | 2.18217e-13\n",
      "Speed limit (20km/h)                               | 3.50883e-15\n",
      "\n",
      "actual Speed limit (30km/h)\n",
      "------------------------------------------------------------\n",
      "Speed limit (30km/h)                                       | 1.0\n",
      "Speed limit (50km/h)                               | 1.04468e-10\n",
      "Bicycles crossing                                   | 1.4434e-13\n",
      "Keep right                                           | 2.428e-14\n",
      "Road work                                          | 2.30502e-14\n",
      "\n"
     ]
    }
   ],
   "source": [
    "### Print out the top five softmax probabilities for the predictions on the German traffic sign images found on the web. \n",
    "### Feel free to use as many code cells as needed.\n",
    "with tf.Session() as sess:\n",
    "    out = sess.run(tf.nn.top_k(tf.nn.softmax(proba), k=5))\n",
    "\n",
    "BUFF_SIZE = 60\n",
    "for i in range(len(out[0])):\n",
    "    print('actual',test_labels[i])\n",
    "    print('-'*BUFF_SIZE)\n",
    "    for j in range(len(out[0][i])):\n",
    "        label = LABELS[out[1][i][j]][1]\n",
    "        prob = out[0][i][j]\n",
    "        print(label,' '*(BUFF_SIZE-len(str(prob))-len(label)),'|',prob)\n",
    "    print()\n",
    "\n"
   ]
  },
  {
   "cell_type": "markdown",
   "metadata": {},
   "source": [
    "### Project Writeup\n",
    "\n",
    "Once you have completed the code implementation, document your results in a project writeup using this [template](https://github.com/udacity/CarND-Traffic-Sign-Classifier-Project/blob/master/writeup_template.md) as a guide. The writeup can be in a markdown or pdf file. "
   ]
  },
  {
   "cell_type": "markdown",
   "metadata": {},
   "source": [
    "> **Note**: Once you have completed all of the code implementations and successfully answered each question above, you may finalize your work by exporting the iPython Notebook as an HTML document. You can do this by using the menu above and navigating to  \\n\",\n",
    "    \"**File -> Download as -> HTML (.html)**. Include the finished document along with this notebook as your submission."
   ]
  },
  {
   "cell_type": "markdown",
   "metadata": {},
   "source": [
    "---\n",
    "\n",
    "## Step 4 (Optional): Visualize the Neural Network's State with Test Images\n",
    "\n",
    " This Section is not required to complete but acts as an additional excersise for understaning the output of a neural network's weights. While neural networks can be a great learning device they are often referred to as a black box. We can understand what the weights of a neural network look like better by plotting their feature maps. After successfully training your neural network you can see what it's feature maps look like by plotting the output of the network's weight layers in response to a test stimuli image. From these plotted feature maps, it's possible to see what characteristics of an image the network finds interesting. For a sign, maybe the inner network feature maps react with high activation to the sign's boundary outline or to the contrast in the sign's painted symbol.\n",
    "\n",
    " Provided for you below is the function code that allows you to get the visualization output of any tensorflow weight layer you want. The inputs to the function should be a stimuli image, one used during training or a new one you provided, and then the tensorflow variable name that represents the layer's state during the training process, for instance if you wanted to see what the [LeNet lab's](https://classroom.udacity.com/nanodegrees/nd013/parts/fbf77062-5703-404e-b60c-95b78b2f3f9e/modules/6df7ae49-c61c-4bb2-a23e-6527e69209ec/lessons/601ae704-1035-4287-8b11-e2c2716217ad/concepts/d4aca031-508f-4e0b-b493-e7b706120f81) feature maps looked like for it's second convolutional layer you could enter conv2 as the tf_activation variable.\n",
    "\n",
    "For an example of what feature map outputs look like, check out NVIDIA's results in their paper [End-to-End Deep Learning for Self-Driving Cars](https://devblogs.nvidia.com/parallelforall/deep-learning-self-driving-cars/) in the section Visualization of internal CNN State. NVIDIA was able to show that their network's inner weights had high activations to road boundary lines by comparing feature maps from an image with a clear path to one without. Try experimenting with a similar test to show that your trained network's weights are looking for interesting features, whether it's looking at differences in feature maps from images with or without a sign, or even what feature maps look like in a trained network vs a completely untrained one on the same sign image.\n",
    "\n",
    "<figure>\n",
    " <img src=\"visualize_cnn.png\" width=\"380\" alt=\"Combined Image\" />\n",
    " <figcaption>\n",
    " <p></p> \n",
    " <p style=\"text-align: center;\"> Your output should look something like this (above)</p> \n",
    " </figcaption>\n",
    "</figure>\n",
    " <p></p> \n"
   ]
  },
  {
   "cell_type": "code",
   "execution_count": null,
   "metadata": {
    "collapsed": true
   },
   "outputs": [],
   "source": [
    "### Visualize your network's feature maps here.\n",
    "### Feel free to use as many code cells as needed.\n",
    "\n",
    "# image_input: the test image being fed into the network to produce the feature maps\n",
    "# tf_activation: should be a tf variable name used during your training procedure that represents the calculated state of a specific weight layer\n",
    "# activation_min/max: can be used to view the activation contrast in more detail, by default matplot sets min and max to the actual min and max values of the output\n",
    "# plt_num: used to plot out multiple different weight feature map sets on the same block, just extend the plt number for each new feature map entry\n",
    "\n",
    "def outputFeatureMap(image_input, tf_activation, activation_min=-1, activation_max=-1 ,plt_num=1):\n",
    "    # Here make sure to preprocess your image_input in a way your network expects\n",
    "    # with size, normalization, ect if needed\n",
    "    # image_input =\n",
    "    # Note: x should be the same name as your network's tensorflow data placeholder variable\n",
    "    # If you get an error tf_activation is not defined it may be having trouble accessing the variable from inside a function\n",
    "    activation = tf_activation.eval(session=sess,feed_dict={x : image_input})\n",
    "    featuremaps = activation.shape[3]\n",
    "    plt.figure(plt_num, figsize=(15,15))\n",
    "    for featuremap in range(featuremaps):\n",
    "        plt.subplot(6,8, featuremap+1) # sets the number of feature maps to show on each row and column\n",
    "        plt.title('FeatureMap ' + str(featuremap)) # displays the feature map number\n",
    "        if activation_min != -1 & activation_max != -1:\n",
    "            plt.imshow(activation[0,:,:, featuremap], interpolation=\"nearest\", vmin =activation_min, vmax=activation_max, cmap=\"gray\")\n",
    "        elif activation_max != -1:\n",
    "            plt.imshow(activation[0,:,:, featuremap], interpolation=\"nearest\", vmax=activation_max, cmap=\"gray\")\n",
    "        elif activation_min !=-1:\n",
    "            plt.imshow(activation[0,:,:, featuremap], interpolation=\"nearest\", vmin=activation_min, cmap=\"gray\")\n",
    "        else:\n",
    "            plt.imshow(activation[0,:,:, featuremap], interpolation=\"nearest\", cmap=\"gray\")"
   ]
  }
 ],
 "metadata": {
  "anaconda-cloud": {},
  "kernelspec": {
   "display_name": "Python 3",
   "language": "python",
   "name": "python3"
  },
  "language_info": {
   "codemirror_mode": {
    "name": "ipython",
    "version": 3
   },
   "file_extension": ".py",
   "mimetype": "text/x-python",
   "name": "python",
   "nbconvert_exporter": "python",
   "pygments_lexer": "ipython3",
   "version": "3.5.2"
  },
  "widgets": {
   "state": {},
   "version": "1.1.2"
  }
 },
 "nbformat": 4,
 "nbformat_minor": 1
}
